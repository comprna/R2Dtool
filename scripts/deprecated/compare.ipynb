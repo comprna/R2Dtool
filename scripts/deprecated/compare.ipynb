{
 "cells": [
  {
   "cell_type": "code",
   "execution_count": 1,
   "id": "0ef0f028-b645-48c1-ad19-313f8cf50333",
   "metadata": {},
   "outputs": [],
   "source": [
    "import pandas as pd\n",
    "\n",
    "# Define the working directory and file paths\n",
    "wd = \"/g/data/lf10/as7425/R2DTool_demo/\"\n",
    "file1 = f\"{wd}/methylation_calls_annotated.bed\"\n",
    "file2 = f\"{wd}/methylation_calls_annotated_R.bed\"\n",
    "\n",
    "# Read the files into Pandas dataframes\n",
    "df1 = pd.read_csv(file1, sep='\\t', low_memory=False)\n",
    "df2 = pd.read_csv(file2, sep='\\t', low_memory=False)\n",
    "\n",
    "# Assuming you want to match 'transcript' in df1 with 'transcript_id' in df2\n",
    "df2.rename(columns={'transcript_id': 'transcript'}, inplace=True)\n"
   ]
  },
  {
   "cell_type": "code",
   "execution_count": 2,
   "id": "cea4bd5d-c5aa-4a90-b5e5-199d8eda77d2",
   "metadata": {},
   "outputs": [
    {
     "name": "stdout",
     "output_type": "stream",
     "text": [
      "        transcript  start   end name score strand      motif  coverage  \\\n",
      "0  ENST00000000233   1007  1008    .     .      +  CTTGAGTAA       648   \n",
      "1  ENST00000000233   1011  1012    .     .      +  AGTAATAAA       628   \n",
      "2  ENST00000000233    137   138    .     .      +  AAGCAGATG       467   \n",
      "3  ENST00000000233    151   152    .     .      +  TCTCATGGT       608   \n",
      "4  ENST00000000233    164   165    .     .      +  TTGGATGCG       544   \n",
      "\n",
      "         stoichiometry  probability  ... transcript_biotype tx_len cds_start  \\\n",
      "0   0.1013215859030837     0.118574  ...     protein_coding   1032      88.0   \n",
      "1   0.3223684210526316     0.547572  ...     protein_coding   1032      88.0   \n",
      "2   0.2560240963855422     0.363126  ...     protein_coding   1032      88.0   \n",
      "3   0.5113636363636364     0.421296  ...     protein_coding   1032      88.0   \n",
      "4  0.17433414043583534     0.367664  ...     protein_coding   1032      88.0   \n",
      "\n",
      "   cds_end  tx_end  transcript_metacoordinate  abs_cds_start  abs_cds_end  \\\n",
      "0    628.0  1032.0                    2.93812          919.0        379.0   \n",
      "1    628.0  1032.0                    2.94802          923.0        383.0   \n",
      "2    628.0  1032.0                    1.09074           49.0       -491.0   \n",
      "3    628.0  1032.0                    1.11667           63.0       -477.0   \n",
      "4    628.0  1032.0                    1.14074           76.0       -464.0   \n",
      "\n",
      "   up_junc_dist  down_junc_dist  \n",
      "0         463.0             NaN  \n",
      "1         467.0             NaN  \n",
      "2           NaN            18.0  \n",
      "3           NaN             4.0  \n",
      "4           9.0            72.0  \n",
      "\n",
      "[5 rows x 22 columns]\n"
     ]
    }
   ],
   "source": [
    "df1['transcript'] = df1['transcript'].str.split('.').str[0]\n",
    "print(df1.head())"
   ]
  },
  {
   "cell_type": "code",
   "execution_count": 3,
   "id": "8757c384-a36b-4985-9eb0-296d04c7e9c0",
   "metadata": {},
   "outputs": [
    {
     "data": {
      "text/html": [
       "<div>\n",
       "<style scoped>\n",
       "    .dataframe tbody tr th:only-of-type {\n",
       "        vertical-align: middle;\n",
       "    }\n",
       "\n",
       "    .dataframe tbody tr th {\n",
       "        vertical-align: top;\n",
       "    }\n",
       "\n",
       "    .dataframe thead th {\n",
       "        text-align: right;\n",
       "    }\n",
       "</style>\n",
       "<table border=\"1\" class=\"dataframe\">\n",
       "  <thead>\n",
       "    <tr style=\"text-align: right;\">\n",
       "      <th></th>\n",
       "      <th>transcript</th>\n",
       "      <th>start</th>\n",
       "      <th>end</th>\n",
       "      <th>name</th>\n",
       "      <th>score</th>\n",
       "      <th>strand</th>\n",
       "      <th>motif</th>\n",
       "      <th>coverage</th>\n",
       "      <th>stoichiometry</th>\n",
       "      <th>probability</th>\n",
       "      <th>...</th>\n",
       "      <th>utr5_len</th>\n",
       "      <th>utr3_len</th>\n",
       "      <th>cds_start</th>\n",
       "      <th>cds_end</th>\n",
       "      <th>tx_end</th>\n",
       "      <th>transcript_metacoordinate</th>\n",
       "      <th>abs_cds_start</th>\n",
       "      <th>abs_cds_end</th>\n",
       "      <th>up_junc_dist</th>\n",
       "      <th>down_junc_dist</th>\n",
       "    </tr>\n",
       "  </thead>\n",
       "  <tbody>\n",
       "    <tr>\n",
       "      <th>0</th>\n",
       "      <td>ENST00000000233</td>\n",
       "      <td>1007</td>\n",
       "      <td>1008</td>\n",
       "      <td>.</td>\n",
       "      <td>.</td>\n",
       "      <td>+</td>\n",
       "      <td>CTTGAGTAA</td>\n",
       "      <td>648</td>\n",
       "      <td>0.1013215859030837</td>\n",
       "      <td>0.118574</td>\n",
       "      <td>...</td>\n",
       "      <td>88</td>\n",
       "      <td>401</td>\n",
       "      <td>88</td>\n",
       "      <td>631</td>\n",
       "      <td>1032</td>\n",
       "      <td>2.937656</td>\n",
       "      <td>919</td>\n",
       "      <td>376</td>\n",
       "      <td>463.0</td>\n",
       "      <td>NaN</td>\n",
       "    </tr>\n",
       "    <tr>\n",
       "      <th>1</th>\n",
       "      <td>ENST00000000233</td>\n",
       "      <td>1011</td>\n",
       "      <td>1012</td>\n",
       "      <td>.</td>\n",
       "      <td>.</td>\n",
       "      <td>+</td>\n",
       "      <td>AGTAATAAA</td>\n",
       "      <td>628</td>\n",
       "      <td>0.3223684210526316</td>\n",
       "      <td>0.547572</td>\n",
       "      <td>...</td>\n",
       "      <td>88</td>\n",
       "      <td>401</td>\n",
       "      <td>88</td>\n",
       "      <td>631</td>\n",
       "      <td>1032</td>\n",
       "      <td>2.947631</td>\n",
       "      <td>923</td>\n",
       "      <td>380</td>\n",
       "      <td>467.0</td>\n",
       "      <td>NaN</td>\n",
       "    </tr>\n",
       "    <tr>\n",
       "      <th>2</th>\n",
       "      <td>ENST00000000233</td>\n",
       "      <td>137</td>\n",
       "      <td>138</td>\n",
       "      <td>.</td>\n",
       "      <td>.</td>\n",
       "      <td>+</td>\n",
       "      <td>AAGCAGATG</td>\n",
       "      <td>467</td>\n",
       "      <td>0.2560240963855422</td>\n",
       "      <td>0.363126</td>\n",
       "      <td>...</td>\n",
       "      <td>88</td>\n",
       "      <td>401</td>\n",
       "      <td>88</td>\n",
       "      <td>631</td>\n",
       "      <td>1032</td>\n",
       "      <td>1.090239</td>\n",
       "      <td>49</td>\n",
       "      <td>-494</td>\n",
       "      <td>NaN</td>\n",
       "      <td>18.0</td>\n",
       "    </tr>\n",
       "    <tr>\n",
       "      <th>3</th>\n",
       "      <td>ENST00000000233</td>\n",
       "      <td>151</td>\n",
       "      <td>152</td>\n",
       "      <td>.</td>\n",
       "      <td>.</td>\n",
       "      <td>+</td>\n",
       "      <td>TCTCATGGT</td>\n",
       "      <td>608</td>\n",
       "      <td>0.5113636363636364</td>\n",
       "      <td>0.421296</td>\n",
       "      <td>...</td>\n",
       "      <td>88</td>\n",
       "      <td>401</td>\n",
       "      <td>88</td>\n",
       "      <td>631</td>\n",
       "      <td>1032</td>\n",
       "      <td>1.116022</td>\n",
       "      <td>63</td>\n",
       "      <td>-480</td>\n",
       "      <td>NaN</td>\n",
       "      <td>4.0</td>\n",
       "    </tr>\n",
       "    <tr>\n",
       "      <th>4</th>\n",
       "      <td>ENST00000000233</td>\n",
       "      <td>164</td>\n",
       "      <td>165</td>\n",
       "      <td>.</td>\n",
       "      <td>.</td>\n",
       "      <td>+</td>\n",
       "      <td>TTGGATGCG</td>\n",
       "      <td>544</td>\n",
       "      <td>0.17433414043583534</td>\n",
       "      <td>0.367664</td>\n",
       "      <td>...</td>\n",
       "      <td>88</td>\n",
       "      <td>401</td>\n",
       "      <td>88</td>\n",
       "      <td>631</td>\n",
       "      <td>1032</td>\n",
       "      <td>1.139963</td>\n",
       "      <td>76</td>\n",
       "      <td>-467</td>\n",
       "      <td>9.0</td>\n",
       "      <td>72.0</td>\n",
       "    </tr>\n",
       "  </tbody>\n",
       "</table>\n",
       "<p>5 rows × 25 columns</p>\n",
       "</div>"
      ],
      "text/plain": [
       "        transcript  start   end name score strand      motif  coverage  \\\n",
       "0  ENST00000000233   1007  1008    .     .      +  CTTGAGTAA       648   \n",
       "1  ENST00000000233   1011  1012    .     .      +  AGTAATAAA       628   \n",
       "2  ENST00000000233    137   138    .     .      +  AAGCAGATG       467   \n",
       "3  ENST00000000233    151   152    .     .      +  TCTCATGGT       608   \n",
       "4  ENST00000000233    164   165    .     .      +  TTGGATGCG       544   \n",
       "\n",
       "         stoichiometry  probability  ... utr5_len utr3_len cds_start  cds_end  \\\n",
       "0   0.1013215859030837     0.118574  ...       88      401        88      631   \n",
       "1   0.3223684210526316     0.547572  ...       88      401        88      631   \n",
       "2   0.2560240963855422     0.363126  ...       88      401        88      631   \n",
       "3   0.5113636363636364     0.421296  ...       88      401        88      631   \n",
       "4  0.17433414043583534     0.367664  ...       88      401        88      631   \n",
       "\n",
       "   tx_end  transcript_metacoordinate  abs_cds_start  abs_cds_end  \\\n",
       "0    1032                   2.937656            919          376   \n",
       "1    1032                   2.947631            923          380   \n",
       "2    1032                   1.090239             49         -494   \n",
       "3    1032                   1.116022             63         -480   \n",
       "4    1032                   1.139963             76         -467   \n",
       "\n",
       "   up_junc_dist  down_junc_dist  \n",
       "0         463.0             NaN  \n",
       "1         467.0             NaN  \n",
       "2           NaN            18.0  \n",
       "3           NaN             4.0  \n",
       "4           9.0            72.0  \n",
       "\n",
       "[5 rows x 25 columns]"
      ]
     },
     "execution_count": 3,
     "metadata": {},
     "output_type": "execute_result"
    }
   ],
   "source": [
    "df2.head()"
   ]
  },
  {
   "cell_type": "code",
   "execution_count": 4,
   "id": "1f115e32-1825-4054-adf3-f67abf936c74",
   "metadata": {},
   "outputs": [
    {
     "name": "stdout",
     "output_type": "stream",
     "text": [
      "        transcript  start  end_rust name_rust score_rust strand_rust  \\\n",
      "0  ENST00000000233   1007      1008         .          .           +   \n",
      "1  ENST00000000233   1011      1012         .          .           +   \n",
      "2  ENST00000000233    137       138         .          .           +   \n",
      "3  ENST00000000233    151       152         .          .           +   \n",
      "4  ENST00000000233    164       165         .          .           +   \n",
      "\n",
      "  motif_rust  coverage_rust   stoichiometry_rust  probability_rust  ...  \\\n",
      "0  CTTGAGTAA            648   0.1013215859030837          0.118574  ...   \n",
      "1  AGTAATAAA            628   0.3223684210526316          0.547572  ...   \n",
      "2  AAGCAGATG            467   0.2560240963855422          0.363126  ...   \n",
      "3  TCTCATGGT            608   0.5113636363636364          0.421296  ...   \n",
      "4  TTGGATGCG            544  0.17433414043583534          0.367664  ...   \n",
      "\n",
      "  utr5_len utr3_len cds_start_R  cds_end_R  tx_end_R  \\\n",
      "0       88      401          88        631      1032   \n",
      "1       88      401          88        631      1032   \n",
      "2       88      401          88        631      1032   \n",
      "3       88      401          88        631      1032   \n",
      "4       88      401          88        631      1032   \n",
      "\n",
      "   transcript_metacoordinate_R  abs_cds_start_R  abs_cds_end_R  \\\n",
      "0                     2.937656              919            376   \n",
      "1                     2.947631              923            380   \n",
      "2                     1.090239               49           -494   \n",
      "3                     1.116022               63           -480   \n",
      "4                     1.139963               76           -467   \n",
      "\n",
      "   up_junc_dist_R  down_junc_dist_R  \n",
      "0           463.0               NaN  \n",
      "1           467.0               NaN  \n",
      "2             NaN              18.0  \n",
      "3             NaN               4.0  \n",
      "4             9.0              72.0  \n",
      "\n",
      "[5 rows x 45 columns]\n"
     ]
    }
   ],
   "source": [
    "\n",
    "# Merge the dataframes on 'transcript' and 'start' columns\n",
    "merged_df = pd.merge(df1, df2, on=['transcript', 'start'], suffixes=('_rust', '_R'))\n",
    "\n",
    "# Output the merged dataframe if needed (can also save to file if required)\n",
    "print(merged_df.head())\n",
    "\n",
    "# Optionally, save the merged dataframe to a file\n",
    "# merged_df.to_csv(f\"{wd}/merged_output.bed\", sep='\\t', index=False)\n"
   ]
  },
  {
   "cell_type": "code",
   "execution_count": 5,
   "id": "f4216e1c-0edf-4524-bbb9-a1d281f17790",
   "metadata": {},
   "outputs": [
    {
     "name": "stdout",
     "output_type": "stream",
     "text": [
      "Index(['transcript', 'start', 'end_rust', 'name_rust', 'score_rust',\n",
      "       'strand_rust', 'motif_rust', 'coverage_rust', 'stoichiometry_rust',\n",
      "       'probability_rust', 'gene_id_rust', 'gene_name_rust',\n",
      "       'transcript_biotype_rust', 'tx_len_rust', 'cds_start_rust',\n",
      "       'cds_end_rust', 'tx_end_rust', 'transcript_metacoordinate_rust',\n",
      "       'abs_cds_start_rust', 'abs_cds_end_rust', 'up_junc_dist_rust',\n",
      "       'down_junc_dist_rust', 'end_R', 'name_R', 'score_R', 'strand_R',\n",
      "       'motif_R', 'coverage_R', 'stoichiometry_R', 'probability_R',\n",
      "       'transcript_biotype_R', 'gene_name_R', 'gene_id_R', 'tx_len_R',\n",
      "       'cds_len', 'utr5_len', 'utr3_len', 'cds_start_R', 'cds_end_R',\n",
      "       'tx_end_R', 'transcript_metacoordinate_R', 'abs_cds_start_R',\n",
      "       'abs_cds_end_R', 'up_junc_dist_R', 'down_junc_dist_R'],\n",
      "      dtype='object')\n"
     ]
    }
   ],
   "source": [
    "print(merged_df.columns)"
   ]
  },
  {
   "cell_type": "code",
   "execution_count": 6,
   "id": "83107972-69e8-4188-ae8c-370fd504e942",
   "metadata": {},
   "outputs": [],
   "source": [
    "import pandas as pd\n",
    "import numpy as np\n",
    "import matplotlib.pyplot as plt\n",
    "import seaborn as sns\n",
    "from scipy.stats import linregress\n",
    "\n",
    "# Function to plot scatterplot with trendline and R^2 value\n",
    "def plot_scatter_with_trendline(df, x_col, y_col, log_scale=False):\n",
    "    \"\"\"\n",
    "    Plots a scatterplot with a trendline and R^2 value for two columns in a DataFrame.\n",
    "\n",
    "    Parameters:\n",
    "    df (DataFrame): The DataFrame containing the data.\n",
    "    x_col (str): The name of the column to use as the x-axis.\n",
    "    y_col (str): The name of the column to use as the y-axis.\n",
    "    log_scale (bool): Whether to apply log-log scaling to both axes.\n",
    "    \"\"\"\n",
    "    print(df.columns)\n",
    "    # Check if columns exist in the DataFrame\n",
    "    if x_col not in df.columns or y_col not in df.columns:\n",
    "        raise ValueError(\"One or both columns not found in the DataFrame.\")\n",
    "    \n",
    "    # Creating a scatter plot\n",
    "    plt.figure(figsize=(10, 6))\n",
    "    sns.scatterplot(data=df, x=x_col, y=y_col, alpha=0.6)\n",
    "\n",
    "    # Optionally apply log-log scaling\n",
    "    if log_scale:\n",
    "        plt.xscale('log')\n",
    "        plt.yscale('log')\n",
    "\n",
    "    # Fit a linear regression model to get the trendline and R^2 value\n",
    "    slope, intercept, r_value, p_value, std_err = linregress(df[x_col].dropna(), df[y_col].dropna())\n",
    "    plt.plot(df[x_col], intercept + slope*df[x_col], color='red', label=f'Fit Line: y={slope:.2f}x+{intercept:.2f}')\n",
    "\n",
    "    # Plot settings\n",
    "    plt.title(f'Scatter Plot with Trendline between {x_col} and {y_col}')\n",
    "    plt.xlabel(x_col)\n",
    "    plt.ylabel(y_col)\n",
    "    plt.legend(title=f'R-squared = {r_value**2:.2f}')\n",
    "\n",
    "    # Show plot\n",
    "    plt.show()\n",
    "\n"
   ]
  },
  {
   "cell_type": "code",
   "execution_count": 7,
   "id": "f5cda0bd-845d-445a-854b-a9b943cbc939",
   "metadata": {},
   "outputs": [
    {
     "name": "stdout",
     "output_type": "stream",
     "text": [
      "Index(['transcript', 'start', 'end_rust', 'name_rust', 'score_rust',\n",
      "       'strand_rust', 'motif_rust', 'coverage_rust', 'stoichiometry_rust',\n",
      "       'probability_rust', 'gene_id_rust', 'gene_name_rust',\n",
      "       'transcript_biotype_rust', 'tx_len_rust', 'cds_start_rust',\n",
      "       'cds_end_rust', 'tx_end_rust', 'transcript_metacoordinate_rust',\n",
      "       'abs_cds_start_rust', 'abs_cds_end_rust', 'up_junc_dist_rust',\n",
      "       'down_junc_dist_rust', 'end_R', 'name_R', 'score_R', 'strand_R',\n",
      "       'motif_R', 'coverage_R', 'stoichiometry_R', 'probability_R',\n",
      "       'transcript_biotype_R', 'gene_name_R', 'gene_id_R', 'tx_len_R',\n",
      "       'cds_len', 'utr5_len', 'utr3_len', 'cds_start_R', 'cds_end_R',\n",
      "       'tx_end_R', 'transcript_metacoordinate_R', 'abs_cds_start_R',\n",
      "       'abs_cds_end_R', 'up_junc_dist_R', 'down_junc_dist_R'],\n",
      "      dtype='object')\n"
     ]
    },
    {
     "data": {
      "image/png": "[encoded data removed]",
      "text/plain": [
       "<Figure size 1000x600 with 1 Axes>"
      ]
     },
     "metadata": {},
     "output_type": "display_data"
    }
   ],
   "source": [
    "\n",
    "# Call the function with column names\n",
    "plot_scatter_with_trendline(merged_df, 'tx_len_R', 'tx_len_rust', log_scale=True)\n",
    "# Uncomment the following line to apply log-log scaling:\n",
    "# plot_scatter_with_trendline(merged_df, 'Column1', 'Column2', log_scale=True)\n"
   ]
  },
  {
   "cell_type": "code",
   "execution_count": 8,
   "id": "62b9f344-096c-4c36-94a7-8ae7c3a656a1",
   "metadata": {},
   "outputs": [
    {
     "name": "stdout",
     "output_type": "stream",
     "text": [
      "Empty DataFrame\n",
      "Columns: [transcript, start, end_rust, name_rust, score_rust, strand_rust, motif_rust, coverage_rust, stoichiometry_rust, probability_rust, gene_id_rust, gene_name_rust, transcript_biotype_rust, tx_len_rust, cds_start_rust, cds_end_rust, tx_end_rust, transcript_metacoordinate_rust, abs_cds_start_rust, abs_cds_end_rust, up_junc_dist_rust, down_junc_dist_rust, end_R, name_R, score_R, strand_R, motif_R, coverage_R, stoichiometry_R, probability_R, transcript_biotype_R, gene_name_R, gene_id_R, tx_len_R, cds_len, utr5_len, utr3_len, cds_start_R, cds_end_R, tx_end_R, transcript_metacoordinate_R, abs_cds_start_R, abs_cds_end_R, up_junc_dist_R, down_junc_dist_R]\n",
      "Index: []\n",
      "\n",
      "[0 rows x 45 columns]\n"
     ]
    }
   ],
   "source": [
    "import pandas as pd\n",
    "\n",
    "def find_rows_with_nan(df, col1, col2):\n",
    "    \"\"\"\n",
    "    Identifies rows with NaN values in either of the two specified columns.\n",
    "    \n",
    "    Parameters:\n",
    "    df (DataFrame): The DataFrame containing the data.\n",
    "    col1 (str): The name of the first column to check for NaN values.\n",
    "    col2 (str): The name of the second column to check for NaN values.\n",
    "    \n",
    "    Returns:\n",
    "    DataFrame: A DataFrame containing only the rows where at least one of the specified columns has a NaN value.\n",
    "    \"\"\"\n",
    "    # Use `isna()` to find NaNs and `any(axis=1)` to filter rows where any of the specified columns have NaN\n",
    "    nan_rows = df[df[[col1, col2]].isna().any(axis=1)]\n",
    "    return nan_rows\n",
    "\n",
    "# Sample usage:\n",
    "# Define your DataFrame 'merged_df' here\n",
    "# For example:\n",
    "# merged_df = pd.DataFrame({\n",
    "#     'tx_len_R': [1.5, np.nan, 3.0, 4.5, np.nan],\n",
    "#     'tx_len_rust': [2.5, 3.5, np.nan, 4.5, 5.5]\n",
    "# })\n",
    "\n",
    "# Find and print rows with NaN in either 'tx_len_R' or 'tx_len_rust'\n",
    "nan_rows = find_rows_with_nan(merged_df, 'tx_len_R', 'tx_len_rust')\n",
    "print(nan_rows)\n"
   ]
  },
  {
   "cell_type": "code",
   "execution_count": 9,
   "id": "2c60aa70-df61-4b17-9280-1e0a7006081b",
   "metadata": {},
   "outputs": [
    {
     "name": "stdout",
     "output_type": "stream",
     "text": [
      "Rows where 'tx_len_R' differs from 'tx_len_rust':\n",
      "Empty DataFrame\n",
      "Columns: [transcript, start, end_rust, name_rust, score_rust, strand_rust, motif_rust, coverage_rust, stoichiometry_rust, probability_rust, gene_id_rust, gene_name_rust, transcript_biotype_rust, tx_len_rust, cds_start_rust, cds_end_rust, tx_end_rust, transcript_metacoordinate_rust, abs_cds_start_rust, abs_cds_end_rust, up_junc_dist_rust, down_junc_dist_rust, end_R, name_R, score_R, strand_R, motif_R, coverage_R, stoichiometry_R, probability_R, transcript_biotype_R, gene_name_R, gene_id_R, tx_len_R, cds_len, utr5_len, utr3_len, cds_start_R, cds_end_R, tx_end_R, transcript_metacoordinate_R, abs_cds_start_R, abs_cds_end_R, up_junc_dist_R, down_junc_dist_R]\n",
      "Index: []\n",
      "Percentage of rows affected: 0.00%\n"
     ]
    }
   ],
   "source": [
    "import pandas as pd\n",
    "pd.set_option('display.max_columns', None)\n",
    "# Assuming merged_df is already loaded into your environment\n",
    "# Example of checking if the DataFrame has these columns, in case they might be missing:\n",
    "if 'tx_len_R' in merged_df.columns and 'tx_len_rust' in merged_df.columns:\n",
    "    # Create a filter for rows where the two columns are not equal\n",
    "    diff_filter = merged_df['tx_len_R'] != merged_df['tx_len_rust']\n",
    "    \n",
    "    # Extract the rows where the values differ\n",
    "    different_rows = merged_df[diff_filter]\n",
    "    \n",
    "    # Calculate the percentage of rows that are different\n",
    "    percentage_different = (len(different_rows) / len(merged_df)) * 100\n",
    "\n",
    "    # Print the rows with differences\n",
    "    print(\"Rows where 'tx_len_R' differs from 'tx_len_rust':\")\n",
    "    print(different_rows)\n",
    "    \n",
    "    # Print the percentage of rows that are different\n",
    "    print(f\"Percentage of rows affected: {percentage_different:.2f}%\")\n",
    "else:\n",
    "    print(\"One or both columns are missing in the DataFrame.\")\n"
   ]
  },
  {
   "cell_type": "code",
   "execution_count": 10,
   "id": "f1fe7ca2-c4a4-43d7-be9a-f659d10e95b7",
   "metadata": {},
   "outputs": [
    {
     "name": "stdout",
     "output_type": "stream",
     "text": [
      "Index(['transcript', 'start', 'end_rust', 'name_rust', 'score_rust',\n",
      "       'strand_rust', 'motif_rust', 'coverage_rust', 'stoichiometry_rust',\n",
      "       'probability_rust', 'gene_id_rust', 'gene_name_rust',\n",
      "       'transcript_biotype_rust', 'tx_len_rust', 'cds_start_rust',\n",
      "       'cds_end_rust', 'tx_end_rust', 'transcript_metacoordinate_rust',\n",
      "       'abs_cds_start_rust', 'abs_cds_end_rust', 'up_junc_dist_rust',\n",
      "       'down_junc_dist_rust', 'end_R', 'name_R', 'score_R', 'strand_R',\n",
      "       'motif_R', 'coverage_R', 'stoichiometry_R', 'probability_R',\n",
      "       'transcript_biotype_R', 'gene_name_R', 'gene_id_R', 'tx_len_R',\n",
      "       'cds_len', 'utr5_len', 'utr3_len', 'cds_start_R', 'cds_end_R',\n",
      "       'tx_end_R', 'transcript_metacoordinate_R', 'abs_cds_start_R',\n",
      "       'abs_cds_end_R', 'up_junc_dist_R', 'down_junc_dist_R'],\n",
      "      dtype='object')\n"
     ]
    },
    {
     "ename": "ValueError",
     "evalue": "all the input array dimensions except for the concatenation axis must match exactly, but along dimension 1, the array at index 0 has size 3008336 and the array at index 1 has size 3151872",
     "output_type": "error",
     "traceback": [
      "\u001b[0;31m---------------------------------------------------------------------------\u001b[0m",
      "\u001b[0;31mValueError\u001b[0m                                Traceback (most recent call last)",
      "Cell \u001b[0;32mIn[10], line 2\u001b[0m\n\u001b[1;32m      1\u001b[0m \u001b[38;5;66;03m# Call the function with column names\u001b[39;00m\n\u001b[0;32m----> 2\u001b[0m \u001b[43mplot_scatter_with_trendline\u001b[49m\u001b[43m(\u001b[49m\u001b[43mmerged_df\u001b[49m\u001b[43m,\u001b[49m\u001b[43m \u001b[49m\u001b[38;5;124;43m'\u001b[39;49m\u001b[38;5;124;43mabs_cds_start_rust\u001b[39;49m\u001b[38;5;124;43m'\u001b[39;49m\u001b[43m,\u001b[49m\u001b[43m \u001b[49m\u001b[38;5;124;43m'\u001b[39;49m\u001b[38;5;124;43mabs_cds_start_R\u001b[39;49m\u001b[38;5;124;43m'\u001b[39;49m\u001b[43m,\u001b[49m\u001b[43m \u001b[49m\u001b[43mlog_scale\u001b[49m\u001b[38;5;241;43m=\u001b[39;49m\u001b[38;5;28;43;01mTrue\u001b[39;49;00m\u001b[43m)\u001b[49m\n",
      "Cell \u001b[0;32mIn[6], line 33\u001b[0m, in \u001b[0;36mplot_scatter_with_trendline\u001b[0;34m(df, x_col, y_col, log_scale)\u001b[0m\n\u001b[1;32m     30\u001b[0m     plt\u001b[38;5;241m.\u001b[39myscale(\u001b[38;5;124m'\u001b[39m\u001b[38;5;124mlog\u001b[39m\u001b[38;5;124m'\u001b[39m)\n\u001b[1;32m     32\u001b[0m \u001b[38;5;66;03m# Fit a linear regression model to get the trendline and R^2 value\u001b[39;00m\n\u001b[0;32m---> 33\u001b[0m slope, intercept, r_value, p_value, std_err \u001b[38;5;241m=\u001b[39m \u001b[43mlinregress\u001b[49m\u001b[43m(\u001b[49m\u001b[43mdf\u001b[49m\u001b[43m[\u001b[49m\u001b[43mx_col\u001b[49m\u001b[43m]\u001b[49m\u001b[38;5;241;43m.\u001b[39;49m\u001b[43mdropna\u001b[49m\u001b[43m(\u001b[49m\u001b[43m)\u001b[49m\u001b[43m,\u001b[49m\u001b[43m \u001b[49m\u001b[43mdf\u001b[49m\u001b[43m[\u001b[49m\u001b[43my_col\u001b[49m\u001b[43m]\u001b[49m\u001b[38;5;241;43m.\u001b[39;49m\u001b[43mdropna\u001b[49m\u001b[43m(\u001b[49m\u001b[43m)\u001b[49m\u001b[43m)\u001b[49m\n\u001b[1;32m     34\u001b[0m plt\u001b[38;5;241m.\u001b[39mplot(df[x_col], intercept \u001b[38;5;241m+\u001b[39m slope\u001b[38;5;241m*\u001b[39mdf[x_col], color\u001b[38;5;241m=\u001b[39m\u001b[38;5;124m'\u001b[39m\u001b[38;5;124mred\u001b[39m\u001b[38;5;124m'\u001b[39m, label\u001b[38;5;241m=\u001b[39m\u001b[38;5;124mf\u001b[39m\u001b[38;5;124m'\u001b[39m\u001b[38;5;124mFit Line: y=\u001b[39m\u001b[38;5;132;01m{\u001b[39;00mslope\u001b[38;5;132;01m:\u001b[39;00m\u001b[38;5;124m.2f\u001b[39m\u001b[38;5;132;01m}\u001b[39;00m\u001b[38;5;124mx+\u001b[39m\u001b[38;5;132;01m{\u001b[39;00mintercept\u001b[38;5;132;01m:\u001b[39;00m\u001b[38;5;124m.2f\u001b[39m\u001b[38;5;132;01m}\u001b[39;00m\u001b[38;5;124m'\u001b[39m)\n\u001b[1;32m     36\u001b[0m \u001b[38;5;66;03m# Plot settings\u001b[39;00m\n",
      "File \u001b[0;32m~/.local/lib/python3.9/site-packages/scipy/stats/_stats_mstats_common.py:167\u001b[0m, in \u001b[0;36mlinregress\u001b[0;34m(x, y, alternative)\u001b[0m\n\u001b[1;32m    162\u001b[0m ymean \u001b[38;5;241m=\u001b[39m np\u001b[38;5;241m.\u001b[39mmean(y, \u001b[38;5;28;01mNone\u001b[39;00m)\n\u001b[1;32m    164\u001b[0m \u001b[38;5;66;03m# Average sums of square differences from the mean\u001b[39;00m\n\u001b[1;32m    165\u001b[0m \u001b[38;5;66;03m#   ssxm = mean( (x-mean(x))^2 )\u001b[39;00m\n\u001b[1;32m    166\u001b[0m \u001b[38;5;66;03m#   ssxym = mean( (x-mean(x)) * (y-mean(y)) )\u001b[39;00m\n\u001b[0;32m--> 167\u001b[0m ssxm, ssxym, _, ssym \u001b[38;5;241m=\u001b[39m \u001b[43mnp\u001b[49m\u001b[38;5;241;43m.\u001b[39;49m\u001b[43mcov\u001b[49m\u001b[43m(\u001b[49m\u001b[43mx\u001b[49m\u001b[43m,\u001b[49m\u001b[43m \u001b[49m\u001b[43my\u001b[49m\u001b[43m,\u001b[49m\u001b[43m \u001b[49m\u001b[43mbias\u001b[49m\u001b[38;5;241;43m=\u001b[39;49m\u001b[38;5;241;43m1\u001b[39;49m\u001b[43m)\u001b[49m\u001b[38;5;241m.\u001b[39mflat\n\u001b[1;32m    169\u001b[0m \u001b[38;5;66;03m# R-value\u001b[39;00m\n\u001b[1;32m    170\u001b[0m \u001b[38;5;66;03m#   r = ssxym / sqrt( ssxm * ssym )\u001b[39;00m\n\u001b[1;32m    171\u001b[0m \u001b[38;5;28;01mif\u001b[39;00m ssxm \u001b[38;5;241m==\u001b[39m \u001b[38;5;241m0.0\u001b[39m \u001b[38;5;129;01mor\u001b[39;00m ssym \u001b[38;5;241m==\u001b[39m \u001b[38;5;241m0.0\u001b[39m:\n\u001b[1;32m    172\u001b[0m     \u001b[38;5;66;03m# If the denominator was going to be 0\u001b[39;00m\n",
      "File \u001b[0;32m<__array_function__ internals>:200\u001b[0m, in \u001b[0;36mcov\u001b[0;34m(*args, **kwargs)\u001b[0m\n",
      "File \u001b[0;32m~/.local/lib/python3.9/site-packages/numpy/lib/function_base.py:2640\u001b[0m, in \u001b[0;36mcov\u001b[0;34m(m, y, rowvar, bias, ddof, fweights, aweights, dtype)\u001b[0m\n\u001b[1;32m   2638\u001b[0m     \u001b[38;5;28;01mif\u001b[39;00m \u001b[38;5;129;01mnot\u001b[39;00m rowvar \u001b[38;5;129;01mand\u001b[39;00m y\u001b[38;5;241m.\u001b[39mshape[\u001b[38;5;241m0\u001b[39m] \u001b[38;5;241m!=\u001b[39m \u001b[38;5;241m1\u001b[39m:\n\u001b[1;32m   2639\u001b[0m         y \u001b[38;5;241m=\u001b[39m y\u001b[38;5;241m.\u001b[39mT\n\u001b[0;32m-> 2640\u001b[0m     X \u001b[38;5;241m=\u001b[39m \u001b[43mnp\u001b[49m\u001b[38;5;241;43m.\u001b[39;49m\u001b[43mconcatenate\u001b[49m\u001b[43m(\u001b[49m\u001b[43m(\u001b[49m\u001b[43mX\u001b[49m\u001b[43m,\u001b[49m\u001b[43m \u001b[49m\u001b[43my\u001b[49m\u001b[43m)\u001b[49m\u001b[43m,\u001b[49m\u001b[43m \u001b[49m\u001b[43maxis\u001b[49m\u001b[38;5;241;43m=\u001b[39;49m\u001b[38;5;241;43m0\u001b[39;49m\u001b[43m)\u001b[49m\n\u001b[1;32m   2642\u001b[0m \u001b[38;5;28;01mif\u001b[39;00m ddof \u001b[38;5;129;01mis\u001b[39;00m \u001b[38;5;28;01mNone\u001b[39;00m:\n\u001b[1;32m   2643\u001b[0m     \u001b[38;5;28;01mif\u001b[39;00m bias \u001b[38;5;241m==\u001b[39m \u001b[38;5;241m0\u001b[39m:\n",
      "File \u001b[0;32m<__array_function__ internals>:200\u001b[0m, in \u001b[0;36mconcatenate\u001b[0;34m(*args, **kwargs)\u001b[0m\n",
      "\u001b[0;31mValueError\u001b[0m: all the input array dimensions except for the concatenation axis must match exactly, but along dimension 1, the array at index 0 has size 3008336 and the array at index 1 has size 3151872"
     ]
    },
    {
     "data": {
      "image/png": "[encoded data removed]",
      "text/plain": [
       "<Figure size 1000x600 with 1 Axes>"
      ]
     },
     "metadata": {},
     "output_type": "display_data"
    }
   ],
   "source": [
    "# Call the function with column names\n",
    "plot_scatter_with_trendline(merged_df, 'abs_cds_start_rust', 'abs_cds_start_R', log_scale=True)"
   ]
  },
  {
   "cell_type": "code",
   "execution_count": null,
   "id": "6dbf6d37-9d00-4d0c-bec2-8dedb91445dc",
   "metadata": {},
   "outputs": [],
   "source": [
    "# Call the function with column names\n",
    "plot_scatter_with_trendline(merged_df, 'transcript_metacoordinate_rust', 'transcript_metacoordinate_R', log_scale=True)"
   ]
  },
  {
   "cell_type": "markdown",
   "id": "2e6d25e9-ce67-466a-80d3-859de0a1aaa5",
   "metadata": {},
   "source": [
    "### Call the function with column names\n",
    "plot_scatter_with_trendline(merged_df, 'up_junc_dist_rust', 'up_junc_dist_R', log_scale=True)"
   ]
  },
  {
   "cell_type": "code",
   "execution_count": null,
   "id": "8e014100-70af-4c09-b6e5-3a856538a4ca",
   "metadata": {},
   "outputs": [],
   "source": []
  },
  {
   "cell_type": "code",
   "execution_count": null,
   "id": "dc226266-b755-4ac4-93b5-e358e1e08d17",
   "metadata": {},
   "outputs": [],
   "source": [
    "# Call the function with column names\n",
    "plot_scatter_with_trendline(merged_df, 'up_junc_dist_rust', 'up_junc_dist_R', log_scale=True)"
   ]
  },
  {
   "cell_type": "code",
   "execution_count": null,
   "id": "eb991c35-0333-454d-a473-e52f909018da",
   "metadata": {},
   "outputs": [],
   "source": [
    "# Call the function with column names\n",
    "plot_scatter_with_trendline(merged_df, 'down_junc_dist_rust', 'down_junc_dist_R', log_scale=True)"
   ]
  }
 ],
 "metadata": {
  "kernelspec": {
   "display_name": "Python 3",
   "language": "python",
   "name": "python3"
  },
  "language_info": {
   "codemirror_mode": {
    "name": "ipython",
    "version": 3
   },
   "file_extension": ".py",
   "mimetype": "text/x-python",
   "name": "python",
   "nbconvert_exporter": "python",
   "pygments_lexer": "ipython3",
   "version": "3.9.18"
  }
 },
 "nbformat": 4,
 "nbformat_minor": 5
}
